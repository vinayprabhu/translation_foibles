{
 "cells": [
  {
   "cell_type": "code",
   "execution_count": 2,
   "metadata": {},
   "outputs": [
    {
     "data": {
      "text/plain": [
       "'%.3f'"
      ]
     },
     "execution_count": 2,
     "metadata": {},
     "output_type": "execute_result"
    }
   ],
   "source": [
    "import numpy as np\n",
    "import pandas as pd\n",
    "import matplotlib.pyplot as plt\n",
    "import pandas as pd\n",
    "from google_trans_new import google_translator \n",
    "%matplotlib inline\n",
    "# Cleanliness of displays\n",
    "np.set_printoptions(suppress=True)\n",
    "from IPython.display import set_matplotlib_formats\n",
    "set_matplotlib_formats('retina')\n",
    "%precision 3\n"
   ]
  },
  {
   "cell_type": "markdown",
   "metadata": {},
   "source": [
    "The original code to get the translations of enjoined is below. Note that there may be some variation in translations over time, but our results are timestamped"
   ]
  },
  {
   "cell_type": "code",
   "execution_count": 7,
   "metadata": {},
   "outputs": [],
   "source": [
    "# from multiprocessing.dummy import Pool as ThreadPool # import threading for translating multiple sentences\n",
    "# from functools import partial\n",
    "\n",
    "\n",
    "# translator = google_translator()\n",
    "# df_goog_lang=pd.read_csv('google_languages.csv')\n",
    "# list_lang=df_goog_lang.iloc[:,1].values\n",
    "\n",
    "\n",
    "# def backtranslate_once(text, lang):\n",
    "#   en_lang = translator.translate(text, lang_src='en',lang_tgt=lang)\n",
    "#   lang_en = translator.translate(en_lang, lang_src=lang, lang_tgt='en')\n",
    "#   return (lang, en_lang, lang_en)\n",
    "\n",
    "# def threaded_longitudinal(langs, text):\n",
    "#   pool = ThreadPool(8)\n",
    "#   backtranslate_partial = partial(backtranslate_once, text)\n",
    "#   try:\n",
    "#     results = pool.map(backtranslate_partial, langs)\n",
    "#   except Exception as e:\n",
    "#     raise e\n",
    "#   pool.close()\n",
    "#   pool.join()\n",
    "\n",
    "#   return results\n",
    "\n",
    "\n",
    "# text = \"The court enjoined the violence!\"\n",
    "# results = threaded_longitudinal(list_lang.tolist(), text)\n",
    "\n",
    "# def process_results(tup_list, lang_list):\n",
    "#   #this sorts the results by language in case they get out of order from threading\n",
    "#   #then it splits the tuples and converts to a dataframe\n",
    "\n",
    "#   sorted_results = sorted(tup_list, key=lambda tup : lang_list.index(tup[0]))\n",
    "#   langs, en_lang_translated, lang_en_translated = zip(*sorted_results)\n",
    "#   lang_names = []\n",
    "#   for lang in langs:\n",
    "#     lang_names.append(df_goog_lang.loc[df_goog_lang.iloc[:,1]==lang].Language.values[0])\n",
    "#   df_lang = pd.DataFrame(data=np.stack([np.array(lang_names), np.array(en_lang_translated),np.array(lang_en_translated)], axis = -1), columns=[\"Language\", \"En2Language\", \"Language2En\"])\n",
    "#   return df_lang\n",
    "\n",
    "\n",
    "# df_trans =process_results(results, list_lang.tolist())\n",
    "\n",
    "# df_trans.head(10)"
   ]
  },
  {
   "cell_type": "code",
   "execution_count": 22,
   "metadata": {},
   "outputs": [],
   "source": [
    "enj_trans = pd.read_csv(\"enjoined_translated_1-31-2021.csv\", index_col = 0)"
   ]
  },
  {
   "cell_type": "code",
   "execution_count": 27,
   "metadata": {},
   "outputs": [
    {
     "data": {
      "text/html": [
       "<div>\n",
       "<style scoped>\n",
       "    .dataframe tbody tr th:only-of-type {\n",
       "        vertical-align: middle;\n",
       "    }\n",
       "\n",
       "    .dataframe tbody tr th {\n",
       "        vertical-align: top;\n",
       "    }\n",
       "\n",
       "    .dataframe thead th {\n",
       "        text-align: right;\n",
       "    }\n",
       "</style>\n",
       "<table border=\"1\" class=\"dataframe\">\n",
       "  <thead>\n",
       "    <tr style=\"text-align: right;\">\n",
       "      <th></th>\n",
       "      <th>Language</th>\n",
       "      <th>En2Language</th>\n",
       "      <th>Language2En</th>\n",
       "    </tr>\n",
       "  </thead>\n",
       "  <tbody>\n",
       "    <tr>\n",
       "      <th>0</th>\n",
       "      <td>Afrikaans</td>\n",
       "      <td>Die hof beveel die geweld!</td>\n",
       "      <td>The court orders the violence!</td>\n",
       "    </tr>\n",
       "    <tr>\n",
       "      <th>1</th>\n",
       "      <td>Albanian</td>\n",
       "      <td>Gjykata urdhëroi dhunën!</td>\n",
       "      <td>The court ordered the violence!</td>\n",
       "    </tr>\n",
       "    <tr>\n",
       "      <th>2</th>\n",
       "      <td>Amharic</td>\n",
       "      <td>ፍርድ ቤቱ አመፁን አዘዘ!</td>\n",
       "      <td>The court ordered the protest!</td>\n",
       "    </tr>\n",
       "    <tr>\n",
       "      <th>3</th>\n",
       "      <td>Arabic</td>\n",
       "      <td>أمرت المحكمة بالعنف!</td>\n",
       "      <td>Court ordered violence!</td>\n",
       "    </tr>\n",
       "    <tr>\n",
       "      <th>4</th>\n",
       "      <td>Armenian</td>\n",
       "      <td>Դատարանը պատվիրեց բռնությունը:</td>\n",
       "      <td>The court ordered the violence.</td>\n",
       "    </tr>\n",
       "    <tr>\n",
       "      <th>5</th>\n",
       "      <td>Azerbaijani</td>\n",
       "      <td>Məhkəmə şiddəti əmr etdi!</td>\n",
       "      <td>The court ordered violence!</td>\n",
       "    </tr>\n",
       "    <tr>\n",
       "      <th>6</th>\n",
       "      <td>Basque</td>\n",
       "      <td>Auzitegiak indarkeria agindu zuen!</td>\n",
       "      <td>The court ordered violence!</td>\n",
       "    </tr>\n",
       "    <tr>\n",
       "      <th>7</th>\n",
       "      <td>Belarusian</td>\n",
       "      <td>Суд прызначыў гвалт!</td>\n",
       "      <td>The court ordered violence!</td>\n",
       "    </tr>\n",
       "    <tr>\n",
       "      <th>8</th>\n",
       "      <td>Bengali</td>\n",
       "      <td>আদালত সহিংসতার নির্দেশ দিয়েছে!</td>\n",
       "      <td>Court orders violence!</td>\n",
       "    </tr>\n",
       "    <tr>\n",
       "      <th>9</th>\n",
       "      <td>Bosnian</td>\n",
       "      <td>Sud je naredio nasilje!</td>\n",
       "      <td>The court ordered violence!</td>\n",
       "    </tr>\n",
       "  </tbody>\n",
       "</table>\n",
       "</div>"
      ],
      "text/plain": [
       "      Language                          En2Language  \\\n",
       "0    Afrikaans          Die hof beveel die geweld!    \n",
       "1     Albanian            Gjykata urdhëroi dhunën!    \n",
       "2      Amharic                    ፍርድ ቤቱ አመፁን አዘዘ!    \n",
       "3       Arabic                أمرت المحكمة بالعنف!    \n",
       "4     Armenian      Դատարանը պատվիրեց բռնությունը:    \n",
       "5  Azerbaijani           Məhkəmə şiddəti əmr etdi!    \n",
       "6       Basque  Auzitegiak indarkeria agindu zuen!    \n",
       "7   Belarusian                Суд прызначыў гвалт!    \n",
       "8      Bengali     আদালত সহিংসতার নির্দেশ দিয়েছে!    \n",
       "9      Bosnian             Sud je naredio nasilje!    \n",
       "\n",
       "                        Language2En  \n",
       "0   The court orders the violence!   \n",
       "1  The court ordered the violence!   \n",
       "2   The court ordered the protest!   \n",
       "3          Court ordered violence!   \n",
       "4  The court ordered the violence.   \n",
       "5      The court ordered violence!   \n",
       "6      The court ordered violence!   \n",
       "7      The court ordered violence!   \n",
       "8           Court orders violence!   \n",
       "9      The court ordered violence!   "
      ]
     },
     "execution_count": 27,
     "metadata": {},
     "output_type": "execute_result"
    }
   ],
   "source": [
    "enj_trans.head(10)"
   ]
  },
  {
   "cell_type": "code",
   "execution_count": 10,
   "metadata": {},
   "outputs": [],
   "source": [
    "nuance_indices = [13, 14, 20, 35, 41, 43, 54, 70, 97, 99] # cases where it translates to prohibition\n",
    "misc_indices = [34, 47, 36, 38, 44, 52, 53, 78, 96, 104, 106] # translations that are strange or wrong but in neither direction"
   ]
  },
  {
   "cell_type": "code",
   "execution_count": 28,
   "metadata": {},
   "outputs": [],
   "source": [
    "non_nuance = df_trans.shape[0] - len(nuance_indices) -len(misc_indices)"
   ]
  },
  {
   "cell_type": "code",
   "execution_count": 29,
   "metadata": {},
   "outputs": [
    {
     "name": "stdout",
     "output_type": "stream",
     "text": [
      "[88, 10, 11]\n"
     ]
    },
    {
     "data": {
      "image/png": "[encoded data removed]",
      "text/plain": [
       "<Figure size 504x360 with 1 Axes>"
      ]
     },
     "metadata": {
      "image/png": {
       "height": 330,
       "width": 437
      },
      "needs_background": "light"
     },
     "output_type": "display_data"
    }
   ],
   "source": [
    "import seaborn as sns\n",
    "sns.set_context('paper')\n",
    "sns.set_color_codes('pastel')\n",
    "d = pd.DataFrame({\"Translation Type\": [\"Prescription\", \"Prohibition\", \"Misc/Incorrect Translation\"],\n",
    "                  \"Number of Occurrences\": [non_nuance, len(nuance_indices), len(misc_indices)]})\n",
    "f, ax = plt.subplots(figsize = (7,5))\n",
    "print([non_nuance, len(nuance_indices), len(misc_indices)])\n",
    "p = sns.barplot(x=\"Translation Type\", y = \"Number of Occurrences\", data = d, color = 'b' )\n",
    "# plt.bar([\"Prescription\", \"Prohibition\", \"Misc/Incorrect Translation\"], [non_nuance, len(nuance_indices), len(misc_indices)])\n",
    "plt.title(\"Translation of 'The Court Enjoined the Violence' When Intended As Prohibition\")\n",
    "# plt.xlabel(\"Translation Type\")\n",
    "# plt.ylabel(\"Number of Occurrences\")\n",
    "plt.show()"
   ]
  },
  {
   "cell_type": "markdown",
   "metadata": {},
   "source": [
    "Now we move on from the Longitudinal experiment to the Latintudinal experiment."
   ]
  },
  {
   "cell_type": "code",
   "execution_count": 30,
   "metadata": {},
   "outputs": [],
   "source": [
    "# def backtranslate_one_text(lang, text):\n",
    "#   en_lang = translator.translate(text, lang_src='en',lang_tgt=lang)\n",
    "#   lang_en = translator.translate(en_lang, lang_src=lang, lang_tgt='en')\n",
    "#   return (lang, en_lang, lang_en)\n",
    "\n",
    "# def threaded_latitudinal(lang, texts):\n",
    "#   pool = ThreadPool(8)\n",
    "#   backtranslate_partial = partial(backtranslate_one_text, lang)\n",
    "#   try:\n",
    "#     results = pool.map(backtranslate_partial, texts)\n",
    "#   except Exception as e:\n",
    "#     raise e\n",
    "#   pool.close()\n",
    "#   pool.join()\n",
    "\n",
    "#   return results\n",
    "\n",
    "# sentences = [\"The war cry for justice was all over - Much to the chagrin of the authorities.\", \n",
    "#              \"The regime's decision adumbrates the underlying agenda.\",\n",
    "#              \"The community was anxious over the passing of the much needed reforms.\",\n",
    "#              \"The think tank  published a paper outlining their apology of capital punishment.\",\n",
    "#              \"Aught was left of the petition's validity\",\n",
    "#              \"The President exhorted his ministers to buckle up as key opposition support for his economic plan was about to buckle.\",\n",
    "#              \"The voters were chuffed to see the bill passed.\",\n",
    "#              \"The lawyer's discursive narration swayed the jury.\",\n",
    "#              \"he court enjoined the violence!\",\n",
    "#              \"The EU block opposed an eventual imposition of anti-dumping measures.\",\n",
    "#              \"A fulsome eulogy was delivered by the sly counsel.\",\n",
    "#              \"The gig-economy agency decided to garnish the refunds!\",\n",
    "#              \"Members of the anti-theocratic revolutionary movement overthrew the peers in power!\",\n",
    "#              \"The traitors disappointingly decided to fight with the colonialists.\"]\n",
    "\n",
    "#for igbo, can be replaced with'kn' to get Kannada translations\n",
    "# results = threaded_longitudinal(\"ig\", sentences)"
   ]
  },
  {
   "cell_type": "code",
   "execution_count": 34,
   "metadata": {},
   "outputs": [],
   "source": [
    "igbo_translations = pd.read_csv(\"en_igbo_contronyms_2-6-2021.csv\")"
   ]
  },
  {
   "cell_type": "code",
   "execution_count": 35,
   "metadata": {},
   "outputs": [
    {
     "data": {
      "text/html": [
       "<div>\n",
       "<style scoped>\n",
       "    .dataframe tbody tr th:only-of-type {\n",
       "        vertical-align: middle;\n",
       "    }\n",
       "\n",
       "    .dataframe tbody tr th {\n",
       "        vertical-align: top;\n",
       "    }\n",
       "\n",
       "    .dataframe thead th {\n",
       "        text-align: right;\n",
       "    }\n",
       "</style>\n",
       "<table border=\"1\" class=\"dataframe\">\n",
       "  <thead>\n",
       "    <tr style=\"text-align: right;\">\n",
       "      <th></th>\n",
       "      <th>Unnamed: 0</th>\n",
       "      <th>lang</th>\n",
       "      <th>en_lang</th>\n",
       "      <th>lang_en</th>\n",
       "    </tr>\n",
       "  </thead>\n",
       "  <tbody>\n",
       "    <tr>\n",
       "      <th>0</th>\n",
       "      <td>0</td>\n",
       "      <td>ig</td>\n",
       "      <td>Ọgụ a na-eti maka ikpe ziri ezi agwụla - ọtụtụ...</td>\n",
       "      <td>The battle for justice is over - many are upse...</td>\n",
       "    </tr>\n",
       "    <tr>\n",
       "      <th>1</th>\n",
       "      <td>1</td>\n",
       "      <td>ig</td>\n",
       "      <td>Mkpebi nke ọchịchị na-ekwupụta ebumnuche kpata...</td>\n",
       "      <td>The government’s decision articulates the unde...</td>\n",
       "    </tr>\n",
       "    <tr>\n",
       "      <th>2</th>\n",
       "      <td>2</td>\n",
       "      <td>ig</td>\n",
       "      <td>Ndị obodo ahụ nwere nchegbu maka ịgafe mgbanwe...</td>\n",
       "      <td>The community is concerned about going through...</td>\n",
       "    </tr>\n",
       "    <tr>\n",
       "      <th>3</th>\n",
       "      <td>3</td>\n",
       "      <td>ig</td>\n",
       "      <td>Lọ ọrụ ahụ chepụtara akwụkwọ na-akọwa mgbaghar...</td>\n",
       "      <td>The employer devised a document explaining the...</td>\n",
       "    </tr>\n",
       "    <tr>\n",
       "      <th>4</th>\n",
       "      <td>4</td>\n",
       "      <td>ig</td>\n",
       "      <td>Enweghị ihe ọ bụla nke nkwado nke arịrịọ ahụ</td>\n",
       "      <td>There was no support for the request</td>\n",
       "    </tr>\n",
       "    <tr>\n",
       "      <th>5</th>\n",
       "      <td>5</td>\n",
       "      <td>ig</td>\n",
       "      <td>Onye isi oche ahụ gbara ndị ozi ya ume ka ha g...</td>\n",
       "      <td>The president urged his ministers to remain si...</td>\n",
       "    </tr>\n",
       "    <tr>\n",
       "      <th>6</th>\n",
       "      <td>6</td>\n",
       "      <td>ig</td>\n",
       "      <td>Ndị juru vootu ahụ hụrụ ka ụgwọ a gafere.</td>\n",
       "      <td>The voters saw the bill passed.</td>\n",
       "    </tr>\n",
       "    <tr>\n",
       "      <th>7</th>\n",
       "      <td>7</td>\n",
       "      <td>ig</td>\n",
       "      <td>Nkwupụta okwu a nke ọkàiwu gbanwere ndị juri a...</td>\n",
       "      <td>The prosecutor's statement changed the jury.</td>\n",
       "    </tr>\n",
       "    <tr>\n",
       "      <th>8</th>\n",
       "      <td>8</td>\n",
       "      <td>ig</td>\n",
       "      <td>ụlọ ikpe nyere iwu ka e mee ihe ike!</td>\n",
       "      <td>court orders violence!</td>\n",
       "    </tr>\n",
       "    <tr>\n",
       "      <th>9</th>\n",
       "      <td>9</td>\n",
       "      <td>ig</td>\n",
       "      <td>Ihe mgbochi EU megidere nnabata mgbochi mgbochi.</td>\n",
       "      <td>EU sanctions violate EU sanctions.</td>\n",
       "    </tr>\n",
       "  </tbody>\n",
       "</table>\n",
       "</div>"
      ],
      "text/plain": [
       "   Unnamed: 0 lang                                            en_lang  \\\n",
       "0           0   ig  Ọgụ a na-eti maka ikpe ziri ezi agwụla - ọtụtụ...   \n",
       "1           1   ig  Mkpebi nke ọchịchị na-ekwupụta ebumnuche kpata...   \n",
       "2           2   ig  Ndị obodo ahụ nwere nchegbu maka ịgafe mgbanwe...   \n",
       "3           3   ig  Lọ ọrụ ahụ chepụtara akwụkwọ na-akọwa mgbaghar...   \n",
       "4           4   ig      Enweghị ihe ọ bụla nke nkwado nke arịrịọ ahụ    \n",
       "5           5   ig  Onye isi oche ahụ gbara ndị ozi ya ume ka ha g...   \n",
       "6           6   ig         Ndị juru vootu ahụ hụrụ ka ụgwọ a gafere.    \n",
       "7           7   ig  Nkwupụta okwu a nke ọkàiwu gbanwere ndị juri a...   \n",
       "8           8   ig              ụlọ ikpe nyere iwu ka e mee ihe ike!    \n",
       "9           9   ig  Ihe mgbochi EU megidere nnabata mgbochi mgbochi.    \n",
       "\n",
       "                                             lang_en  \n",
       "0  The battle for justice is over - many are upse...  \n",
       "1  The government’s decision articulates the unde...  \n",
       "2  The community is concerned about going through...  \n",
       "3  The employer devised a document explaining the...  \n",
       "4              There was no support for the request   \n",
       "5  The president urged his ministers to remain si...  \n",
       "6                   The voters saw the bill passed.   \n",
       "7      The prosecutor's statement changed the jury.   \n",
       "8                            court orders violence!   \n",
       "9                EU sanctions violate EU sanctions.   "
      ]
     },
     "execution_count": 35,
     "metadata": {},
     "output_type": "execute_result"
    }
   ],
   "source": [
    "igbo_translations.head(10)"
   ]
  },
  {
   "cell_type": "code",
   "execution_count": null,
   "metadata": {},
   "outputs": [],
   "source": []
  }
 ],
 "metadata": {
  "kernelspec": {
   "display_name": "Python 3",
   "language": "python",
   "name": "python3"
  },
  "language_info": {
   "codemirror_mode": {
    "name": "ipython",
    "version": 3
   },
   "file_extension": ".py",
   "mimetype": "text/x-python",
   "name": "python",
   "nbconvert_exporter": "python",
   "pygments_lexer": "ipython3",
   "version": "3.7.2"
  }
 },
 "nbformat": 4,
 "nbformat_minor": 4
}
